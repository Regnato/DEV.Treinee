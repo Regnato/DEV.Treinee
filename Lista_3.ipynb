{
 "cells": [
  {
   "cell_type": "markdown",
   "id": "3907fd04",
   "metadata": {},
   "source": [
    "1. Importe as bibliotecas necessárias"
   ]
  },
  {
   "cell_type": "code",
   "execution_count": 1,
   "id": "307f90e4",
   "metadata": {},
   "outputs": [],
   "source": [
    "import pandas as pd\n",
    "import numpy as np"
   ]
  },
  {
   "cell_type": "markdown",
   "id": "6f54d0e3",
   "metadata": {},
   "source": [
    "2. Importe os dados sobre os penguins, que se encontra no link abaixo.\n",
    "\n",
    "https://raw.githubusercontent.com/mwaskom/seaborn-data/master/penguins.csv"
   ]
  },
  {
   "cell_type": "code",
   "execution_count": null,
   "id": "8d4ee54c",
   "metadata": {},
   "outputs": [],
   "source": [
    "p = pd.read_csv('https://raw.githubusercontent.com/mwaskom/seaborn-data/master/penguins.csv')"
   ]
  },
  {
   "cell_type": "markdown",
   "id": "b820435a",
   "metadata": {},
   "source": [
    "3. Mude o nome de todas as colunas para o inglês"
   ]
  },
  {
   "cell_type": "code",
   "execution_count": null,
   "id": "482af17d",
   "metadata": {},
   "outputs": [],
   "source": [
    "print(p.head())\n",
    "print(\"As colunas já estão em inglês. Mudarei os nomes para o português.\")\n",
    "p.rename(columns = {'species':'especies', 'island':'ilha'}, inplace = True)\n",
    "p.rename(columns = {'bill_length_mm':'tamanho_bico_mm', 'bill_depth_mm':'profundidade_bico_mm'}, inplace = True)\n",
    "p.rename(columns = {'flipper_length_mm':'comprimento_nadadeira_mm', 'body_mass_g':'massa_corporal_g'}, inplace = True)\n",
    "p.rename(columns = {'sex':'sexo'}, inplace = True)\n",
    "print(p.head())"
   ]
  },
  {
   "cell_type": "markdown",
   "id": "d2d99e45",
   "metadata": {},
   "source": [
    "4. Mude os elementos da coluna sex (\"MALE\" e \"FEMALE\") para português (\"MASCULINO\" e \"FEMININO\")"
   ]
  },
  {
   "cell_type": "code",
   "execution_count": null,
   "id": "bcebda9a",
   "metadata": {},
   "outputs": [],
   "source": [
    "p['sexo'].replace(['MALE', 'FEMALE'], ['MASCULINO', 'FEMININO'], inplace=True)\n",
    "print(p.head())"
   ]
  },
  {
   "cell_type": "markdown",
   "id": "2e5fecb3",
   "metadata": {},
   "source": [
    "5. Crie uma coluna com o quadrado do peso chamada quadpeso"
   ]
  },
  {
   "cell_type": "code",
   "execution_count": null,
   "id": "ce282973",
   "metadata": {},
   "outputs": [],
   "source": [
    "p['quadpeso'] = p[['tamanho_bico_mm']]**2"
   ]
  },
  {
   "cell_type": "markdown",
   "id": "b4c10cdf",
   "metadata": {},
   "source": [
    "6. Crie uma coluna chamada acima_da_media, que contenha valores booleanos, True caso o pinguin esteja com o peso acima da média e False caso o pinguin esteja com o peso na média ou abaixo da média."
   ]
  },
  {
   "cell_type": "code",
   "execution_count": null,
   "id": "01d0cd28",
   "metadata": {},
   "outputs": [],
   "source": [
    "peso_medio = p['massa_corporal_g'].mean()\n",
    "p['acima_da_media'] = p['massa_corporal_g'] > peso_medio\n",
    "print(p['acima_da_media'].head())"
   ]
  },
  {
   "cell_type": "markdown",
   "id": "4eadf313",
   "metadata": {},
   "source": [
    "7. Calcule quantos penguins, por espécie, estão com o peso acima da média"
   ]
  },
  {
   "cell_type": "code",
   "execution_count": null,
   "id": "152677ee",
   "metadata": {},
   "outputs": [],
   "source": [
    "print(p['acima_da_media'].sum())"
   ]
  },
  {
   "cell_type": "markdown",
   "id": "419bfa49",
   "metadata": {},
   "source": [
    "8. Calcule a média e o desvio-padrão dos pinguins, por sexo e por ilha. Depois, jogue fora as linhas que são NaN"
   ]
  },
  {
   "cell_type": "code",
   "execution_count": null,
   "id": "df1d66e8",
   "metadata": {},
   "outputs": [],
   "source": [
    "print(p['ilha'].unique())\n",
    "p_torg = p[p[\"ilha\"] == 'Torgersen']\n",
    "print(p_torg['massa_corporal_g'].mean())\n",
    "print(p_torg['massa_corporal_g'].std())\n",
    "p_bisc = p[p[\"ilha\"] == 'Biscoe']\n",
    "print(p_bisc['massa_corporal_g'].mean())\n",
    "print(p_bisc['massa_corporal_g'].std())\n",
    "p_drem = p[p[\"ilha\"] == 'Dream']\n",
    "print(p_drem['massa_corporal_g'].mean())\n",
    "print(p_drem['massa_corporal_g'].std())\n",
    "\n",
    "p_femn = p[p['sexo'] == 'FEMININO']\n",
    "print(p_femn['massa_corporal_g'].mean())\n",
    "print(p_femn['massa_corporal_g'].std())\n",
    "p_masc = p[p['sexo'] == 'MASCULINO']\n",
    "print(p_masc['massa_corporal_g'].mean())\n",
    "print(p_masc['massa_corporal_g'].std())\n",
    "\n",
    "p2 = p.dropna()"
   ]
  },
  {
   "cell_type": "markdown",
   "id": "c4025f99",
   "metadata": {},
   "source": [
    "9. Encontre os pinguins que estão acima de dois desvio-padrão do peso médio.\n",
    "\n",
    "obs: você precisará filtrar os pinguins que estejam acima de 2 * desvio_padrão + peso_médio"
   ]
  },
  {
   "cell_type": "code",
   "execution_count": null,
   "id": "9fbe8bb3",
   "metadata": {},
   "outputs": [],
   "source": [
    "std = p['massa_corporal_g'].std()\n",
    "peso_alto = peso_medio + 2*std\n",
    "p['peso_alto'] = p['massa_corporal_g'] > peso_alto\n",
    "print(p['acima_da_media'].head())"
   ]
  },
  {
   "cell_type": "markdown",
   "id": "c291eb65",
   "metadata": {},
   "source": [
    "10. Para cada grupo de ilha e espécie, encontre o tamanho de bico mediano e a quantidade de penguins"
   ]
  },
  {
   "cell_type": "code",
   "execution_count": null,
   "id": "a2d991dd",
   "metadata": {},
   "outputs": [],
   "source": [
    "print(p['especies'].unique())\n",
    "p_torg = p[p[\"ilha\"] == 'Torgersen']\n",
    "print(p_torg['tamanho_bico_mm'].median())\n",
    "print(p_torg['tamanho_bico_mm'].size)\n",
    "p_bisc = p[p[\"ilha\"] == 'Biscoe']\n",
    "print(p_bisc['tamanho_bico_mm'].median())\n",
    "print(p_bisc['tamanho_bico_mm'].size)\n",
    "p_drem = p[p[\"ilha\"] == 'Dream']\n",
    "print(p_drem['tamanho_bico_mm'].median())\n",
    "print(p_drem['tamanho_bico_mm'].size)\n",
    "\n",
    "p_adel = p[p['especies'] == 'Adelie']\n",
    "print(p_adel['tamanho_bico_mm'].median())\n",
    "print(p_adel['tamanho_bico_mm'].size)\n",
    "p_chin = p[p['especies'] == 'Chinstrap']\n",
    "print(p_chin['tamanho_bico_mm'].median())\n",
    "print(p_chin['tamanho_bico_mm'].size)\n",
    "p_gent = p[p['especies'] == 'Gentoo']\n",
    "print(p_gent['tamanho_bico_mm'].median())\n",
    "print(p_gent['tamanho_bico_mm'].size)"
   ]
  },
  {
   "cell_type": "markdown",
   "id": "506e84ec",
   "metadata": {},
   "source": [
    "11. Importe os CSVs abaixo para variáveis:\n",
    " \n",
    "flights.csv, airports.csv, planes.csv e airlines"
   ]
  },
  {
   "cell_type": "code",
   "execution_count": null,
   "id": "ed806bf8",
   "metadata": {},
   "outputs": [],
   "source": [
    "flights = pd.read_csv(\"flights.csv\")\n",
    "airports = pd.read_csv(\"airports.csv\")\n",
    "planes = pd.read_csv(\"planes.csv\")\n",
    "airlines = pd.read_csv(\"irlines.csv\")"
   ]
  },
  {
   "cell_type": "markdown",
   "id": "470f1cf5",
   "metadata": {},
   "source": [
    "12. Faça um left_join de flights e planes. Depois, faça a média de atraso (arr_delay) por manufacturer. Tente arranjar os dados para descobrirmos quais são os que mais atrasam na média"
   ]
  },
  {
   "cell_type": "code",
   "execution_count": null,
   "id": "b27c42e4",
   "metadata": {},
   "outputs": [],
   "source": [
    "joined=pd.merge(flights,planes, how='left')\n",
    "#print(joined.head())\n",
    "man = joined['manufacturer'].unique()\n",
    "#print(man)\n",
    "arr_delay = []\n",
    "for i in man:\n",
    "    manu = joined[joined['manufacturer'] == i]\n",
    "    arr_delay.append(manu['arr_delay'].mean())\n",
    "#print(arr_delay)\n",
    "delay_man = list(zip(man, arr_delay))\n",
    "print(delay_man)"
   ]
  },
  {
   "cell_type": "markdown",
   "id": "61996552",
   "metadata": {},
   "source": [
    "13. Com os dados juntados anteriormente, junte também o dataframe de airlines, de acordo com as colunas em comum. Depois, descubra a quantidade de linhas por origin e airlines"
   ]
  },
  {
   "cell_type": "code",
   "execution_count": null,
   "id": "3d6e1bfa",
   "metadata": {},
   "outputs": [],
   "source": [
    "joined2=pd.merge(joined,airlines, how='left')\n",
    "print(joined2.head())\n",
    "print(joined2['origin'].size)"
   ]
  },
  {
   "cell_type": "markdown",
   "id": "03615233",
   "metadata": {},
   "source": [
    "14. Fique a vontade para brincar com os dados, qualquer dúvida fale com o seu tutor. Fique à vontade de levar sua tentativa de novos arranjos e dúvidas sobre os exercícios para a monitoria."
   ]
  },
  {
   "cell_type": "code",
   "execution_count": null,
   "id": "cfbb02ba",
   "metadata": {},
   "outputs": [],
   "source": []
  }
 ],
 "metadata": {
  "kernelspec": {
   "display_name": "Python 3 (ipykernel)",
   "language": "python",
   "name": "python3"
  },
  "language_info": {
   "codemirror_mode": {
    "name": "ipython",
    "version": 3
   },
   "file_extension": ".py",
   "mimetype": "text/x-python",
   "name": "python",
   "nbconvert_exporter": "python",
   "pygments_lexer": "ipython3",
   "version": "3.9.7"
  }
 },
 "nbformat": 4,
 "nbformat_minor": 5
}
