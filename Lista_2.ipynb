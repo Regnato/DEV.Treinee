{
  "cells": [
    {
      "cell_type": "markdown",
      "id": "19ba480c",
      "metadata": {
        "id": "19ba480c"
      },
      "source": [
        "# Lista de Exercícios"
      ]
    },
    {
      "cell_type": "markdown",
      "id": "dffd9d9c",
      "metadata": {
        "id": "dffd9d9c"
      },
      "source": [
        "1) Crie um array formado de números (de 0 a 10) de tamanho 5 e atribua ele a uma variável chamada \"arr1\""
      ]
    },
    {
      "cell_type": "code",
      "execution_count": null,
      "id": "9f8eddf9",
      "metadata": {
        "id": "9f8eddf9"
      },
      "outputs": [],
      "source": [
        "import numpy as np\n",
        "arr1 = np.array([10, 9, 8, 3, 4])"
      ]
    },
    {
      "cell_type": "code",
      "source": [
        "#LZ - Inseri um código pra gerar números aleatórios\n",
        "\n",
        "import numpy as np\n",
        "import random\n",
        "\n",
        "num = []\n",
        "n= 0\n",
        "while n < 5:\n",
        "    num.append(random.randint(0, 10))\n",
        "    n += 1\n",
        "\n",
        "arr1 = np.array(num)\n",
        "\n",
        "print(arr1)"
      ],
      "metadata": {
        "id": "3WeHHi18PKz8"
      },
      "id": "3WeHHi18PKz8",
      "execution_count": null,
      "outputs": []
    },
    {
      "cell_type": "markdown",
      "id": "ac6c1fb7",
      "metadata": {
        "id": "ac6c1fb7"
      },
      "source": [
        "Suponha que os elementos do \"arr1\" são suas notas em uma determinada disciplina da faculdade. Daqui em diante vamos descobrir se você será aprovado(a) ou não."
      ]
    },
    {
      "cell_type": "markdown",
      "id": "fb969d9e",
      "metadata": {
        "id": "fb969d9e"
      },
      "source": [
        "2) Você descobriu que normalmente a professora tira a média simples das notas e que para a aprovação é necessária uma nota acima de 5. Com isso em mente, encontre a sua média e printe o resultado."
      ]
    },
    {
      "cell_type": "code",
      "execution_count": null,
      "id": "b321b331",
      "metadata": {
        "colab": {
          "base_uri": "https://localhost:8080/"
        },
        "id": "b321b331",
        "outputId": "9d3fc5f2-40e9-4744-96f9-f7251770d134"
      },
      "outputs": [
        {
          "output_type": "execute_result",
          "data": {
            "text/plain": [
              "6.8"
            ]
          },
          "metadata": {},
          "execution_count": 3
        }
      ],
      "source": [
        "if np.mean(arr1) > 5:\n",
        "    print(f'Você foi aprovado!')\n",
        "else:\n",
        "    print(f'Você não foi aprovado :(')"
      ]
    },
    {
      "cell_type": "code",
      "source": [
        "\n",
        "if np.average(arr1) > 5:\n",
        "    print(f'Você foi aprovado!')\n",
        "else:\n",
        "    print(f'Você não foi aprovado :(')"
      ],
      "metadata": {
        "id": "V7LtfTzIRtTY"
      },
      "id": "V7LtfTzIRtTY",
      "execution_count": null,
      "outputs": []
    },
    {
      "cell_type": "markdown",
      "id": "3c5cb2bd",
      "metadata": {
        "id": "3c5cb2bd"
      },
      "source": [
        "3) Após ter o resultado inicial na 2), você descobre que a professora decidiu alterar o método nesse semestre e a sua média será feita de uma forma diferente. Ela anunciou que para a aprovação é necessário que ao menos 3 das 5 notas tenham sido acima de 5 e que, dentre essas notas, ao menos uma tenha o valor maior ou igual a 7."
      ]
    },
    {
      "cell_type": "markdown",
      "id": "568114da",
      "metadata": {
        "id": "568114da"
      },
      "source": [
        "a) Retorne a quantidade de notas acima de 5"
      ]
    },
    {
      "cell_type": "code",
      "execution_count": null,
      "id": "7ffc14f2",
      "metadata": {
        "colab": {
          "base_uri": "https://localhost:8080/"
        },
        "id": "7ffc14f2",
        "outputId": "748d8078-2118-4342-b8cb-439ab7e74564"
      },
      "outputs": [
        {
          "output_type": "execute_result",
          "data": {
            "text/plain": [
              "5"
            ]
          },
          "metadata": {},
          "execution_count": 6
        }
      ],
      "source": [
        "\n",
        "cont = 0\n",
        "for x in arr1:\n",
        "    if x > 5:\n",
        "        cont += 1\n",
        "print(f'Você obteve {cont} nota(s) acima de 5')"
      ]
    },
    {
      "cell_type": "markdown",
      "id": "307f91a7",
      "metadata": {
        "id": "307f91a7"
      },
      "source": [
        "b) Caso na a) o valor seja maior ou igual a 3, crie um novo array com esses números e descubra o resultado da aprovação"
      ]
    },
    {
      "cell_type": "code",
      "execution_count": null,
      "id": "c5d7def2",
      "metadata": {
        "colab": {
          "base_uri": "https://localhost:8080/"
        },
        "id": "c5d7def2",
        "outputId": "89c3a8b0-3c7a-4d18-be8c-797b5f899834"
      },
      "outputs": [
        {
          "output_type": "execute_result",
          "data": {
            "text/plain": [
              "9.0"
            ]
          },
          "metadata": {},
          "execution_count": 10
        }
      ],
      "source": [
        "maior_5 = arr1[arr1 > 5]\n",
        "maior_igual_7 = maior_5[maior_5 >= 7]\n",
        "np.mean(maior_igual_7)"
      ]
    },
    {
      "cell_type": "code",
      "source": [
        "\n",
        "if cont >= 3:\n",
        "    arr2 = np.extract(arr1[:]> 5, arr1)\n",
        "    print(arr2)\n",
        "else:\n",
        "    print(f'Você não obteve o mínimo de 3 notas acima de 5')\n",
        "        "
      ],
      "metadata": {
        "id": "ZxkAuiLwSDAb"
      },
      "id": "ZxkAuiLwSDAb",
      "execution_count": null,
      "outputs": []
    },
    {
      "cell_type": "markdown",
      "id": "b7f89b59",
      "metadata": {
        "id": "b7f89b59"
      },
      "source": [
        "c) Caso na a) o valor seja menor do que 3, crie um novo array com esses números, e descubra se você conseguirá fazer a reaval (para isso é necessário que, dentre essas notas menores do que 5, a sua média tenha sido ao menos 3)"
      ]
    },
    {
      "cell_type": "code",
      "execution_count": null,
      "id": "ce2b1db4",
      "metadata": {
        "id": "ce2b1db4"
      },
      "outputs": [],
      "source": [
        "\n",
        "if cont < 3:\n",
        "    arr3 = np.extract(arr1[:] < 5, arr1)\n",
        "    if np.average(arr3) > 3:\n",
        "        print(f'Você poderá fazer reaval')\n",
        "    else:\n",
        "        print('A média das suas notas abaixo de 5 não alcançou o mínimo de 3. Você não pode fazer a reaval')\n",
        "else:\n",
        "    print(f'Você obteve mais de 3 notas acima de 5')"
      ]
    },
    {
      "cell_type": "markdown",
      "id": "922f9b48",
      "metadata": {
        "id": "922f9b48"
      },
      "source": [
        "4) Dada a facilidade de se mexer com as notas usando Numpy você decidiu criar novos arrays com suas notas em outras matérias. Crie 2 novos arrays com as mesmas características do que o \"arr1\""
      ]
    },
    {
      "cell_type": "code",
      "execution_count": null,
      "id": "1aa591e9",
      "metadata": {
        "id": "1aa591e9"
      },
      "outputs": [],
      "source": [
        "arr2 = np.array([8, 3, 4, 7, 5])\n",
        "arr3 = np.array([5, 2, 0, 8, 4])"
      ]
    },
    {
      "cell_type": "code",
      "source": [
        "\n",
        "num = []\n",
        "n= 0\n",
        "m = 0\n",
        "while m <2:\n",
        "    while n < 5:\n",
        "        num.append(random.randint(0, 10))\n",
        "        n += 1\n",
        "    arr21 = np.array(num)\n",
        "    m += 1\n",
        "    n = 0\n",
        "    num = []\n",
        "    while n < 5:\n",
        "        num.append(random.randint(0, 10))\n",
        "        n += 1\n",
        "    arr22 = np.array(num)\n",
        "    \n",
        "    \n",
        "\n",
        "print(arr21, arr22)"
      ],
      "metadata": {
        "id": "91ANu2boSglh"
      },
      "id": "91ANu2boSglh",
      "execution_count": null,
      "outputs": []
    },
    {
      "cell_type": "markdown",
      "id": "258cbb31",
      "metadata": {
        "id": "258cbb31"
      },
      "source": [
        "5) a)Transforme os 3 arrays em um único array, de tamanho (3,5)"
      ]
    },
    {
      "cell_type": "code",
      "execution_count": null,
      "id": "bd74fe1e",
      "metadata": {
        "id": "bd74fe1e",
        "colab": {
          "base_uri": "https://localhost:8080/"
        },
        "outputId": "f3e8be99-fe73-4fa7-e0eb-2ab4b87a5609"
      },
      "outputs": [
        {
          "output_type": "execute_result",
          "data": {
            "text/plain": [
              "(3, 5)"
            ]
          },
          "metadata": {},
          "execution_count": 7
        }
      ],
      "source": [
        "arr4 = np.array([[10, 9, 8, 7, 6],\n",
        "                 [8, 3, 4, 7, 5],\n",
        "                 [5, 2, 0, 8, 4]])\n",
        "arr4.shape"
      ]
    },
    {
      "cell_type": "code",
      "source": [
        "\n",
        "\n",
        "con = np.vstack((arr1, arr21, arr22))\n",
        "con.shape\n",
        "\n",
        "print(con)"
      ],
      "metadata": {
        "id": "MDzBSGpqSyD8",
        "colab": {
          "base_uri": "https://localhost:8080/",
          "height": 236
        },
        "outputId": "c197a70f-d06d-4819-e9da-e9dd2c7d50d2"
      },
      "id": "MDzBSGpqSyD8",
      "execution_count": null,
      "outputs": [
        {
          "output_type": "error",
          "ename": "NameError",
          "evalue": "ignored",
          "traceback": [
            "\u001b[0;31m---------------------------------------------------------------------------\u001b[0m",
            "\u001b[0;31mNameError\u001b[0m                                 Traceback (most recent call last)",
            "\u001b[0;32m<ipython-input-6-e285f328f448>\u001b[0m in \u001b[0;36m<module>\u001b[0;34m()\u001b[0m\n\u001b[1;32m      2\u001b[0m \u001b[0;31m#concatenação das arrays. Fazer manualmente me parece pouco eficiente.\u001b[0m\u001b[0;34m\u001b[0m\u001b[0;34m\u001b[0m\u001b[0;34m\u001b[0m\u001b[0m\n\u001b[1;32m      3\u001b[0m \u001b[0;34m\u001b[0m\u001b[0m\n\u001b[0;32m----> 4\u001b[0;31m \u001b[0mcon\u001b[0m \u001b[0;34m=\u001b[0m \u001b[0mnp\u001b[0m\u001b[0;34m.\u001b[0m\u001b[0mvstack\u001b[0m\u001b[0;34m(\u001b[0m\u001b[0;34m(\u001b[0m\u001b[0marr1\u001b[0m\u001b[0;34m,\u001b[0m \u001b[0marr21\u001b[0m\u001b[0;34m,\u001b[0m \u001b[0marr22\u001b[0m\u001b[0;34m)\u001b[0m\u001b[0;34m)\u001b[0m\u001b[0;34m\u001b[0m\u001b[0;34m\u001b[0m\u001b[0m\n\u001b[0m\u001b[1;32m      5\u001b[0m \u001b[0mcon\u001b[0m\u001b[0;34m.\u001b[0m\u001b[0mshape\u001b[0m\u001b[0;34m\u001b[0m\u001b[0;34m\u001b[0m\u001b[0m\n\u001b[1;32m      6\u001b[0m \u001b[0;34m\u001b[0m\u001b[0m\n",
            "\u001b[0;31mNameError\u001b[0m: name 'arr21' is not defined"
          ]
        }
      ]
    },
    {
      "cell_type": "markdown",
      "id": "52c7d47e",
      "metadata": {
        "id": "52c7d47e"
      },
      "source": [
        "b) Mude o formato de a) para (5,3)"
      ]
    },
    {
      "cell_type": "code",
      "execution_count": null,
      "id": "35b52574",
      "metadata": {
        "id": "35b52574"
      },
      "outputs": [],
      "source": [
        "con1 = np.transpose(con)\n",
        "\n",
        "print(con1)"
      ]
    },
    {
      "cell_type": "markdown",
      "id": "4e7b35a8",
      "metadata": {
        "id": "4e7b35a8"
      },
      "source": [
        "6) A lista inf_anual tem os dados da inflação anual dos últimos anos (2012,2020) no Brasil (IPCA), crie um array chamado \"inflacao_br\" com os dados da lista\n"
      ]
    },
    {
      "cell_type": "code",
      "execution_count": null,
      "id": "2fd89475",
      "metadata": {
        "id": "2fd89475",
        "colab": {
          "base_uri": "https://localhost:8080/"
        },
        "outputId": "b1c63f81-9968-43bc-8eaf-693d7fbec9f1"
      },
      "outputs": [
        {
          "output_type": "execute_result",
          "data": {
            "text/plain": [
              "array([ 5.84,  5.91,  6.41, 10.67,  6.29,  2.95,  3.75,  4.31,  4.52])"
            ]
          },
          "metadata": {},
          "execution_count": 17
        }
      ],
      "source": [
        "inf_anual = [5.84,5.91,6.41,10.67,6.29,2.95,3.75,4.31,4.52]\n",
        "inflacao_br = np.array(inf_anual)\n",
        "\n",
        "inflacao_br"
      ]
    },
    {
      "cell_type": "markdown",
      "id": "e0c17d7f",
      "metadata": {
        "id": "e0c17d7f"
      },
      "source": [
        "7) Suponha que a meta da inflação ficou constante em 4.5 ao longo desses anos, com uma tolerância de 1.5 para mais ou para menos. Descubra em quais anos o número ficou fora dessa tolerância e retorne um array com 1 se isso é verdade, e 0 caso contrário."
      ]
    },
    {
      "cell_type": "code",
      "execution_count": null,
      "id": "acdce620",
      "metadata": {
        "id": "acdce620",
        "colab": {
          "base_uri": "https://localhost:8080/"
        },
        "outputId": "e84ac760-d73a-467b-da6e-11a6e9a3428b"
      },
      "outputs": [
        {
          "output_type": "stream",
          "name": "stdout",
          "text": [
            "[False False  True  True  True  True False False False]\n"
          ]
        }
      ],
      "source": [
        "print(np.logical_or(inflacao_br <3, inflacao_br>6))\n"
      ]
    },
    {
      "cell_type": "code",
      "source": [
        "resposta = (inflacao_br <= 6) & (inflacao_br >= 3)\n",
        "print(resposta)"
      ],
      "metadata": {
        "id": "CRrxdJm8TO1z"
      },
      "id": "CRrxdJm8TO1z",
      "execution_count": null,
      "outputs": []
    },
    {
      "cell_type": "markdown",
      "id": "acb34520",
      "metadata": {
        "id": "acb34520"
      },
      "source": [
        "8) Plote um gráfico que mostre a evolução anual da inflação, use os anos para o eixo x e a inflação ao eixo y. Nomeie o eixo x como anos e y IPCA, coloque uma cor laranja à reta de inflação."
      ]
    },
    {
      "cell_type": "code",
      "execution_count": null,
      "id": "34e46b9e",
      "metadata": {
        "id": "34e46b9e",
        "colab": {
          "base_uri": "https://localhost:8080/",
          "height": 282
        },
        "outputId": "47a98475-9715-45f8-e111-cc15db86bbe6"
      },
      "outputs": [
        {
          "output_type": "display_data",
          "data": {
            "text/plain": [
              "<Figure size 432x288 with 1 Axes>"
            ],
            "image/png": "[encoded data removed]"
          },
          "metadata": {
            "needs_background": "light"
          }
        }
      ],
      "source": [
        "import numpy as np\n",
        "\n",
        "anos = np.array([2012,2013,2014,2015,2016,2017,2018,2019,2020])\n",
        "\n",
        "import matplotlib.pyplot as plt\n",
        "\n",
        "plt.xlabel(\"Anos\")\n",
        "plt.ylabel(\"IPCA\")\n",
        "plt.plot(anos, inflacao_br, color =\"orange\")\n",
        "plt.show()"
      ]
    },
    {
      "cell_type": "markdown",
      "id": "4bcd39e8",
      "metadata": {
        "id": "4bcd39e8"
      },
      "source": [
        "b) Descreva o comportamento do gráfico."
      ]
    },
    {
      "cell_type": "markdown",
      "source": [
        "Entre os anos de 2013 e 2014, a inflação manteve-se em torno de 6 p.p. Em 2015, houve um crescimento abrupto no IPCA, chegando a quase 11 p.p., seguido de uma queda pronunciada até 2017, com um mínimo de 2.95 p.p.\n",
        "A partir desse ano, a inflação apresentou um crescimento mais lento até 2020."
      ],
      "metadata": {
        "id": "PAr6Mf96Tx5R"
      },
      "id": "PAr6Mf96Tx5R"
    },
    {
      "cell_type": "code",
      "execution_count": null,
      "id": "f130deb5",
      "metadata": {
        "id": "f130deb5"
      },
      "outputs": [],
      "source": []
    }
  ],
  "metadata": {
    "kernelspec": {
      "display_name": "Python 3 (ipykernel)",
      "language": "python",
      "name": "python3"
    },
    "language_info": {
      "codemirror_mode": {
        "name": "ipython",
        "version": 3
      },
      "file_extension": ".py",
      "mimetype": "text/x-python",
      "name": "python",
      "nbconvert_exporter": "python",
      "pygments_lexer": "ipython3",
      "version": "3.8.9"
    },
    "colab": {
      "provenance": [],
      "collapsed_sections": []
    }
  },
  "nbformat": 4,
  "nbformat_minor": 5
}